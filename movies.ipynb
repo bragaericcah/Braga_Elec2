{
 "cells": [
  {
   "cell_type": "code",
   "execution_count": 8,
   "metadata": {},
   "outputs": [
    {
     "name": "stdout",
     "output_type": "stream",
     "text": [
      "+--------------------+------+---------+----+--------------------+-----+---------+---------------+--------------------+--------------+--------------+----------+-----------+------------------+-------+\n",
      "|                name|rating|    genre|year|            released|score|    votes|       director|              writer|          star|       country|    budget|      gross|           company|runtime|\n",
      "+--------------------+------+---------+----+--------------------+-----+---------+---------------+--------------------+--------------+--------------+----------+-----------+------------------+-------+\n",
      "|         The Shining|     R|    Drama|1980|June 13, 1980 (Un...|  8.4| 927000.0|Stanley Kubrick|        Stephen King|Jack Nicholson|United Kingdom|19000000.0| 46998772.0|      Warner Bros.|  146.0|\n",
      "|     The Blue Lagoon|     R|Adventure|1980|July 2, 1980 (Uni...|  5.8|  65000.0| Randal Kleiser|Henry De Vere Sta...|Brooke Shields| United States| 4500000.0| 58853106.0| Columbia Pictures|  104.0|\n",
      "|Star Wars: Episod...|    PG|   Action|1980|June 20, 1980 (Un...|  8.7|1200000.0| Irvin Kershner|      Leigh Brackett|   Mark Hamill| United States|18000000.0|538375067.0|         Lucasfilm|  124.0|\n",
      "|           Airplane!|    PG|   Comedy|1980|July 2, 1980 (Uni...|  7.7| 221000.0|   Jim Abrahams|        Jim Abrahams|   Robert Hays| United States| 3500000.0| 83453539.0|Paramount Pictures|   88.0|\n",
      "|          Caddyshack|     R|   Comedy|1980|July 25, 1980 (Un...|  7.3| 108000.0|   Harold Ramis|  Brian Doyle-Murray|   Chevy Chase| United States| 6000000.0| 39846344.0|    Orion Pictures|   98.0|\n",
      "+--------------------+------+---------+----+--------------------+-----+---------+---------------+--------------------+--------------+--------------+----------+-----------+------------------+-------+\n",
      "only showing top 5 rows\n",
      "\n"
     ]
    }
   ],
   "source": [
    "from pyspark.sql import SparkSession\n",
    "import pyspark.sql.functions as F\n",
    "\n",
    "# Initialize Spark Session\n",
    "spark = SparkSession.builder.appName(\"movies\").getOrCreate()\n",
    "\n",
    "# Load CSV into DataFrame\n",
    "df = spark.read.option(\"header\", \"true\").csv(\"BDAData\\movies.csv\")\n",
    "rdd = df.rdd\n",
    "\n",
    "# Show first few rows\n",
    "df.show(5)"
   ]
  },
  {
   "cell_type": "code",
   "execution_count": 9,
   "metadata": {},
   "outputs": [
    {
     "name": "stdout",
     "output_type": "stream",
     "text": [
      "Number of partitions: 4\n"
     ]
    }
   ],
   "source": [
    "# Hash Partitioning:\n",
    "# Repartitions the dataset into 4 partitions using hash partitioning based on \"genre\"\n",
    "df_genre_partitioned = df.repartition(4, \"genre\")\n",
    "print(f\"Number of partitions: {df_genre_partitioned.rdd.getNumPartitions()}\")\n"
   ]
  },
  {
   "cell_type": "code",
   "execution_count": 10,
   "metadata": {},
   "outputs": [],
   "source": [
    "#Range Partitioning\n",
    "# This orders the movies chronologically by their release year\n",
    "df_year_sorted = df.orderBy(\"year\")\n"
   ]
  },
  {
   "cell_type": "code",
   "execution_count": 11,
   "metadata": {},
   "outputs": [
    {
     "name": "stdout",
     "output_type": "stream",
     "text": [
      "+---------+------------+------------------+----------------------+\n",
      "|    genre|Total Movies|    Avg IMDb Score|Avg Box Office Revenue|\n",
      "+---------+------------+------------------+----------------------+\n",
      "|    Crime|         551| 6.671506352087112|   3.940119616605166E7|\n",
      "|  Romance|          10| 6.409999999999999|        2.3549374875E7|\n",
      "| Thriller|          16|5.9125000000000005|  2.6935259416666668E7|\n",
      "|Adventure|         427| 6.291569086651052|  1.0932523022142857E8|\n",
      "|    Drama|        1518|  6.69366754617415|   3.893095949386921E7|\n",
      "|   Family|          11| 6.363636363636362|  1.9617249245454547E8|\n",
      "|  Fantasy|          44| 6.006818181818182|   3.870932872093023E7|\n",
      "|  History|           1|               8.3|                  NULL|\n",
      "|  Mystery|          20| 6.665000000000001|         1.011835277E8|\n",
      "|  Musical|           2|              8.05|             2595346.0|\n",
      "|Animation|         338| 6.769230769230768|  2.3922998745074627E8|\n",
      "|    Music|           1|               7.2|              110014.0|\n",
      "|   Horror|         322| 5.750621118012424|  4.7372409127035834E7|\n",
      "|  Western|           3| 5.666666666666667|  1.0675295333333334E7|\n",
      "|Biography|         443| 7.030925507900678|   4.787432286605081E7|\n",
      "|   Comedy|        2245| 6.193986636971047|  4.4331874298357666E7|\n",
      "|   Action|        1705| 6.202816901408462|   1.455085808451883E8|\n",
      "|    Sport|           1|               5.9|             1067629.0|\n",
      "|   Sci-Fi|          10| 6.210000000000001|         3.256123325E7|\n",
      "+---------+------------+------------------+----------------------+\n",
      "\n"
     ]
    }
   ],
   "source": [
    "#  Summary statistics by \"genre\"\n",
    "#  Counts total movies per genre\n",
    "#  Calculates the average IMDb score for each genre\n",
    "#  Computes the average box office revenue per genre\n",
    "df_summary = df.groupBy(\"genre\").agg(\n",
    "    F.count(\"*\").alias(\"Total Movies\"),\n",
    "    F.avg(\"score\").alias(\"Avg IMDb Score\"),\n",
    "    F.avg(\"gross\").alias(\"Avg Box Office Revenue\")\n",
    ")\n",
    "df_summary.show()\n"
   ]
  },
  {
   "cell_type": "code",
   "execution_count": 12,
   "metadata": {},
   "outputs": [
    {
     "name": "stdout",
     "output_type": "stream",
     "text": [
      "+--------------------+------+---------+----+--------------------+-----+---------+----------------+-----------------+--------------+--------------+----------+-----------+--------------------+-------+\n",
      "|                name|rating|    genre|year|            released|score|    votes|        director|           writer|          star|       country|    budget|      gross|             company|runtime|\n",
      "+--------------------+------+---------+----+--------------------+-----+---------+----------------+-----------------+--------------+--------------+----------+-----------+--------------------+-------+\n",
      "|         The Shining|     R|    Drama|1980|June 13, 1980 (Un...|  8.4| 927000.0| Stanley Kubrick|     Stephen King|Jack Nicholson|United Kingdom|19000000.0| 46998772.0|        Warner Bros.|  146.0|\n",
      "|Star Wars: Episod...|    PG|   Action|1980|June 20, 1980 (Un...|  8.7|1200000.0|  Irvin Kershner|   Leigh Brackett|   Mark Hamill| United States|18000000.0|538375067.0|           Lucasfilm|  124.0|\n",
      "|         Raging Bull|     R|Biography|1980|December 19, 1980...|  8.2| 330000.0| Martin Scorsese|     Jake LaMotta|Robert De Niro| United States|18000000.0| 23402427.0|Chartoff-Winkler ...|  129.0|\n",
      "|  Lion of the Desert|    PG|Biography|1980|May 16, 1981 (Japan)|  8.3|  15000.0| Moustapha Akkad|     David Butler| Anthony Quinn|         Libya|35000000.0|       NULL|Falcon Internatio...|  173.0|\n",
      "|Moscow Does Not B...|    PG|   Comedy|1980|February 11, 1980...|  8.1|  12000.0|Vladimir Menshov|Valentin Chernykh| Vera Alentova|  Soviet Union|  900000.0|       NULL|             Mosfilm|  150.0|\n",
      "+--------------------+------+---------+----+--------------------+-----+---------+----------------+-----------------+--------------+--------------+----------+-----------+--------------------+-------+\n",
      "only showing top 5 rows\n",
      "\n"
     ]
    }
   ],
   "source": [
    "# Movies with IMDb score ≥ 8.0\n",
    "df_high_rated = df.filter(df[\"score\"] >= 8.0)\n",
    "df_high_rated.show(5)\n"
   ]
  },
  {
   "cell_type": "code",
   "execution_count": 13,
   "metadata": {},
   "outputs": [
    {
     "name": "stdout",
     "output_type": "stream",
     "text": [
      "+--------------------+---------+---------+----+--------------------+-----+-------+-------------------+------------------+---------------+-------------+----------+----------+--------------------+-------+\n",
      "|                name|   rating|    genre|year|            released|score|  votes|           director|            writer|           star|      country|    budget|     gross|             company|runtime|\n",
      "+--------------------+---------+---------+----+--------------------+-----+-------+-------------------+------------------+---------------+-------------+----------+----------+--------------------+-------+\n",
      "|             Angel-A|        R|   Comedy|2005|December 21, 2005...|  7.1|33000.0|         Luc Besson|        Luc Besson|  Rie Rasmussen|       France|      NULL| 9995168.0|          EuropaCorp|   91.0|\n",
      "|         In the Mood|    PG-13|   Comedy|1987|September 16, 198...|  6.2|  905.0|Phil Alden Robinson|    Robert Kosberg|Patrick Dempsey|United States| 7000000.0|  999382.0|Kings Road Entert...|   98.0|\n",
      "|Code Geass: Lelou...|Not Rated|Animation|2019|May 5, 2019 (Unit...|  7.4| 2000.0|     Gorô Taniguchi|    Gorô Taniguchi|   Jun Fukuyama|        Japan|      NULL| 9982083.0|             Sunrise|  112.0|\n",
      "|              Lassie|       PG|   Family|1994|July 22, 1994 (Un...|  5.9| 5400.0|      Daniel Petrie|       Eric Knight|   Helen Slater|United States|      NULL| 9979683.0|   Broadway Pictures|   94.0|\n",
      "|    The Book of Life|       PG|Animation|2014|October 17, 2014 ...|  7.3|66000.0| Jorge R. Gutiérrez|Jorge R. Gutiérrez|     Diego Luna|United States|50000000.0|99783556.0|Reel FX Creative ...|   95.0|\n",
      "+--------------------+---------+---------+----+--------------------+-----+-------+-------------------+------------------+---------------+-------------+----------+----------+--------------------+-------+\n",
      "only showing top 5 rows\n",
      "\n"
     ]
    }
   ],
   "source": [
    "# Movies by highest box office revenue (descending order)\n",
    "df_sorted_revenue = df.orderBy(F.desc(\"gross\"))\n",
    "df_sorted_revenue.show(5)\n"
   ]
  },
  {
   "cell_type": "code",
   "execution_count": 14,
   "metadata": {},
   "outputs": [
    {
     "name": "stdout",
     "output_type": "stream",
     "text": [
      "+----------------+------------+\n",
      "|        director|Total Movies|\n",
      "+----------------+------------+\n",
      "|     Woody Allen|          38|\n",
      "|  Clint Eastwood|          31|\n",
      "|       Directors|          28|\n",
      "|Steven Spielberg|          27|\n",
      "|      Ron Howard|          24|\n",
      "+----------------+------------+\n",
      "only showing top 5 rows\n",
      "\n"
     ]
    }
   ],
   "source": [
    "# Count total movies directed by each director\n",
    "# Shows Top 5 directors with the most movies\n",
    "df_directors = df.groupBy(\"director\").agg(F.count(\"*\").alias(\"Total Movies\"))\n",
    "df_top_directors = df_directors.orderBy(F.desc(\"Total Movies\"))\n",
    "df_top_directors.show(5)\n"
   ]
  },
  {
   "cell_type": "code",
   "execution_count": null,
   "metadata": {},
   "outputs": [],
   "source": []
  }
 ],
 "metadata": {
  "kernelspec": {
   "display_name": "Python 3",
   "language": "python",
   "name": "python3"
  },
  "language_info": {
   "codemirror_mode": {
    "name": "ipython",
    "version": 3
   },
   "file_extension": ".py",
   "mimetype": "text/x-python",
   "name": "python",
   "nbconvert_exporter": "python",
   "pygments_lexer": "ipython3",
   "version": "3.10.0"
  }
 },
 "nbformat": 4,
 "nbformat_minor": 2
}
