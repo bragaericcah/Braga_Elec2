{
 "cells": [
  {
   "cell_type": "code",
   "execution_count": 29,
   "metadata": {},
   "outputs": [
    {
     "name": "stdout",
     "output_type": "stream",
     "text": [
      "+--------------------+------+---------+----+--------------------+-----+---------+---------------+--------------------+--------------+--------------+----------+-----------+------------------+-------+\n",
      "|                name|rating|    genre|year|            released|score|    votes|       director|              writer|          star|       country|    budget|      gross|           company|runtime|\n",
      "+--------------------+------+---------+----+--------------------+-----+---------+---------------+--------------------+--------------+--------------+----------+-----------+------------------+-------+\n",
      "|         The Shining|     R|    Drama|1980|June 13, 1980 (Un...|  8.4| 927000.0|Stanley Kubrick|        Stephen King|Jack Nicholson|United Kingdom|19000000.0| 46998772.0|      Warner Bros.|  146.0|\n",
      "|     The Blue Lagoon|     R|Adventure|1980|July 2, 1980 (Uni...|  5.8|  65000.0| Randal Kleiser|Henry De Vere Sta...|Brooke Shields| United States| 4500000.0| 58853106.0| Columbia Pictures|  104.0|\n",
      "|Star Wars: Episod...|    PG|   Action|1980|June 20, 1980 (Un...|  8.7|1200000.0| Irvin Kershner|      Leigh Brackett|   Mark Hamill| United States|18000000.0|538375067.0|         Lucasfilm|  124.0|\n",
      "|           Airplane!|    PG|   Comedy|1980|July 2, 1980 (Uni...|  7.7| 221000.0|   Jim Abrahams|        Jim Abrahams|   Robert Hays| United States| 3500000.0| 83453539.0|Paramount Pictures|   88.0|\n",
      "|          Caddyshack|     R|   Comedy|1980|July 25, 1980 (Un...|  7.3| 108000.0|   Harold Ramis|  Brian Doyle-Murray|   Chevy Chase| United States| 6000000.0| 39846344.0|    Orion Pictures|   98.0|\n",
      "+--------------------+------+---------+----+--------------------+-----+---------+---------------+--------------------+--------------+--------------+----------+-----------+------------------+-------+\n",
      "only showing top 5 rows\n",
      "\n"
     ]
    }
   ],
   "source": [
    "from pyspark.sql import SparkSession\n",
    "from pyspark.sql.functions import col, avg, count, when\n",
    "\n",
    "# Initialize Spark Session\n",
    "spark = SparkSession.builder.appName(\"movies\").getOrCreate()\n",
    "\n",
    "# Load CSV into DataFrame\n",
    "df = spark.read.option(\"header\", \"true\").csv(\"C://Users//trebo//Desktop//BDAData//movies.csv\")\n",
    "rdd = df.rdd\n",
    "\n",
    "# Show first few rows\n",
    "df.show(5)"
   ]
  },
  {
   "cell_type": "code",
   "execution_count": 30,
   "metadata": {},
   "outputs": [
    {
     "name": "stdout",
     "output_type": "stream",
     "text": [
      "+-----------------+------+---------+----+--------------------+-----+---------+-------------------+-------------------+---------------+-------------+-----------+-----------+--------------------+-------+\n",
      "|             name|rating|    genre|year|            released|score|    votes|           director|             writer|           star|      country|     budget|      gross|             company|runtime|\n",
      "+-----------------+------+---------+----+--------------------+-----+---------+-------------------+-------------------+---------------+-------------+-----------+-----------+--------------------+-------+\n",
      "|    Almost Famous|     R|Adventure|2000|September 22, 200...|  7.9| 260000.0|      Cameron Crowe|      Cameron Crowe|   Billy Crudup|United States| 60000000.0| 47386287.0|   Columbia Pictures|  122.0|\n",
      "|        Gladiator|     R|   Action|2000|May 5, 2000 (Unit...|  8.5|1400000.0|       Ridley Scott|     David Franzoni|  Russell Crowe|United States|103000000.0|465380802.0| Dreamworks Pictures|  155.0|\n",
      "|        Cast Away| PG-13|Adventure|2000|December 22, 2000...|  7.8| 542000.0|    Robert Zemeckis|William Broyles Jr.|      Tom Hanks|United States| 90000000.0|429632142.0|Twentieth Century...|  143.0|\n",
      "|      Scary Movie|     R|   Comedy|2000|July 7, 2000 (Uni...|  6.2| 238000.0|Keenen Ivory Wayans|       Shawn Wayans|     Anna Faris|United States| 19000000.0|278019771.0|     Dimension Films|   88.0|\n",
      "|The Perfect Storm| PG-13|   Action|2000|June 30, 2000 (Un...|  6.4| 160000.0|  Wolfgang Petersen|   Sebastian Junger| George Clooney|United States|140000000.0|328718434.0|        Warner Bros.|  130.0|\n",
      "|      Coyote Ugly| PG-13|   Comedy|2000|August 4, 2000 (U...|  5.7| 108000.0|      David McNally|       Gina Wendkos|   Piper Perabo|United States| 45000000.0|113916474.0| Touchstone Pictures|  100.0|\n",
      "|            X-Men| PG-13|   Action|2000|July 14, 2000 (Un...|  7.4| 582000.0|       Bryan Singer|        Tom DeSanto|Patrick Stewart|United States| 75000000.0|296339528.0|Twentieth Century...|  104.0|\n",
      "|    Space Cowboys| PG-13|   Action|2000|August 4, 2000 (U...|  6.4|  75000.0|     Clint Eastwood|        Ken Kaufman| Clint Eastwood|United States| 65000000.0|128884132.0|       Clipsal Films|  130.0|\n",
      "|      The Patriot|     R|   Action|2000|June 28, 2000 (Un...|  7.2| 260000.0|    Roland Emmerich|       Robert Rodat|     Mel Gibson|United States|110000000.0|215294342.0|   Columbia Pictures|  165.0|\n",
      "|  Erin Brockovich|     R|Biography|2000|March 17, 2000 (U...|  7.4| 182000.0|  Steven Soderbergh|     Susannah Grant|  Julia Roberts|United States| 52000000.0|256271286.0|  Universal Pictures|  131.0|\n",
      "+-----------------+------+---------+----+--------------------+-----+---------+-------------------+-------------------+---------------+-------------+-----------+-----------+--------------------+-------+\n",
      "only showing top 10 rows\n",
      "\n"
     ]
    }
   ],
   "source": [
    "# Data Filtering\n",
    "# Keep only movies from 2000 onwards\n",
    "filtered_year = df.filter(col(\"year\") >= 2000)\n",
    "\n",
    "# Filter movies with over 50,000 votes\n",
    "filtered_votes = filtered_year.filter(col(\"votes\") >= 50000)\n",
    "\n",
    "# Filter movies with a budget over 10,000,000\n",
    "filtered_data = filtered_votes.filter(col(\"budget\") >= 10000000)\n",
    "\n",
    "# Show first 10 rows\n",
    "filtered_data.show(10)\n"
   ]
  },
  {
   "cell_type": "code",
   "execution_count": 31,
   "metadata": {},
   "outputs": [
    {
     "name": "stdout",
     "output_type": "stream",
     "text": [
      "+---------+--------------------+--------------------+\n",
      "|    genre|          avg_budget|           avg_gross|\n",
      "+---------+--------------------+--------------------+\n",
      "|    Crime| 3.560094339622641E7|1.1091751068867925E8|\n",
      "|  Romance|              5.02E7|        1.27869379E8|\n",
      "| Thriller|               2.6E7|         9.6258201E7|\n",
      "|Adventure| 8.606846846846847E7| 2.932509976306306E8|\n",
      "|    Drama|3.8851931330472104E7|1.1873864672103004E8|\n",
      "|   Family|               1.6E8|       1.264434525E9|\n",
      "|  Fantasy|3.5333333333333336E7|1.0824172783333333E8|\n",
      "|  Mystery|              5.94E7|       2.832377132E8|\n",
      "|Animation|1.0844154929577465E8| 4.378985987394366E8|\n",
      "|   Horror| 2.435737704918033E7|1.1712742713114753E8|\n",
      "|Biography|3.5818803418803416E7| 1.128766508974359E8|\n",
      "|   Comedy| 3.897433155080214E7|1.2573126355347593E8|\n",
      "|   Action| 8.802018150791366E7|2.7152104056258994E8|\n",
      "|   Sci-Fi|              5.35E7|       1.010100065E8|\n",
      "+---------+--------------------+--------------------+\n",
      "\n"
     ]
    }
   ],
   "source": [
    "# Data Aggregation \n",
    "# 1. Average budget and gross per genre\n",
    "genre_agg = filtered_data.groupBy(\"genre\").agg(\n",
    "    avg(\"budget\").alias(\"avg_budget\"),\n",
    "    avg(\"gross\").alias(\"avg_gross\")\n",
    ")\n",
    "# Show Results\n",
    "genre_agg.show()\n"
   ]
  },
  {
   "cell_type": "code",
   "execution_count": 32,
   "metadata": {},
   "outputs": [
    {
     "name": "stdout",
     "output_type": "stream",
     "text": [
      "+---------+-----------+\n",
      "|   rating|movie_count|\n",
      "+---------+-----------+\n",
      "|Not Rated|          3|\n",
      "|  Unrated|          1|\n",
      "|       PG|        253|\n",
      "|    NC-17|          1|\n",
      "|        R|        738|\n",
      "|        G|         29|\n",
      "|    PG-13|        830|\n",
      "+---------+-----------+\n",
      "\n"
     ]
    }
   ],
   "source": [
    "# 2. Count movies per rating\n",
    "rating_count = filtered_data.groupBy(\"rating\").agg(count(\"*\").alias(\"movie_count\"))\n",
    "# Show Results\n",
    "rating_count.show()"
   ]
  },
  {
   "cell_type": "code",
   "execution_count": 33,
   "metadata": {},
   "outputs": [
    {
     "name": "stdout",
     "output_type": "stream",
     "text": [
      "+-----------------+------+---------+----+--------------------+-----+---------+-------------------+-------------------+---------------+-------------+-----------+-----------+--------------------+-------+\n",
      "|             name|rating|    genre|year|            released|score|    votes|           director|             writer|           star|      country|     budget|      gross|             company|runtime|\n",
      "+-----------------+------+---------+----+--------------------+-----+---------+-------------------+-------------------+---------------+-------------+-----------+-----------+--------------------+-------+\n",
      "|    Almost Famous|     R|Adventure|2000|September 22, 200...|  7.9| 260000.0|      Cameron Crowe|      Cameron Crowe|   Billy Crudup|United States| 60000000.0| 47386287.0|   Columbia Pictures|  122.0|\n",
      "|        Gladiator|     R|   Action|2000|May 5, 2000 (Unit...|  8.5|1400000.0|       Ridley Scott|     David Franzoni|  Russell Crowe|United States|103000000.0|465380802.0| Dreamworks Pictures|  155.0|\n",
      "|        Cast Away| PG-13|Adventure|2000|December 22, 2000...|  7.8| 542000.0|    Robert Zemeckis|William Broyles Jr.|      Tom Hanks|United States| 90000000.0|429632142.0|Twentieth Century...|  143.0|\n",
      "|      Scary Movie|     R|   Comedy|2000|July 7, 2000 (Uni...|  6.2| 238000.0|Keenen Ivory Wayans|       Shawn Wayans|     Anna Faris|United States| 19000000.0|278019771.0|     Dimension Films|   88.0|\n",
      "|The Perfect Storm| PG-13|   Action|2000|June 30, 2000 (Un...|  6.4| 160000.0|  Wolfgang Petersen|   Sebastian Junger| George Clooney|United States|140000000.0|328718434.0|        Warner Bros.|  130.0|\n",
      "|      Coyote Ugly| PG-13|   Comedy|2000|August 4, 2000 (U...|  5.7| 108000.0|      David McNally|       Gina Wendkos|   Piper Perabo|United States| 45000000.0|113916474.0| Touchstone Pictures|  100.0|\n",
      "|            X-Men| PG-13|   Action|2000|July 14, 2000 (Un...|  7.4| 582000.0|       Bryan Singer|        Tom DeSanto|Patrick Stewart|United States| 75000000.0|296339528.0|Twentieth Century...|  104.0|\n",
      "|    Space Cowboys| PG-13|   Action|2000|August 4, 2000 (U...|  6.4|  75000.0|     Clint Eastwood|        Ken Kaufman| Clint Eastwood|United States| 65000000.0|128884132.0|       Clipsal Films|  130.0|\n",
      "|      The Patriot|     R|   Action|2000|June 28, 2000 (Un...|  7.2| 260000.0|    Roland Emmerich|       Robert Rodat|     Mel Gibson|United States|110000000.0|215294342.0|   Columbia Pictures|  165.0|\n",
      "|  Erin Brockovich|     R|Biography|2000|March 17, 2000 (U...|  7.4| 182000.0|  Steven Soderbergh|     Susannah Grant|  Julia Roberts|United States| 52000000.0|256271286.0|  Universal Pictures|  131.0|\n",
      "+-----------------+------+---------+----+--------------------+-----+---------+-------------------+-------------------+---------------+-------------+-----------+-----------+--------------------+-------+\n",
      "only showing top 10 rows\n",
      "\n"
     ]
    }
   ],
   "source": [
    "# Data Cleaning\n",
    "# 1. Remove rows where budget is null\n",
    "filtered_data = filtered_data.dropna(subset=[\"budget\"])\n",
    "\n",
    "# Show the cleaned dataset\n",
    "filtered_data.show(10)"
   ]
  },
  {
   "cell_type": "code",
   "execution_count": 34,
   "metadata": {},
   "outputs": [
    {
     "name": "stdout",
     "output_type": "stream",
     "text": [
      "+-----------------+------+---------+----+--------------------+-----+---------+-------------------+-------------------+---------------+-------------+-----------+-----------+--------------------+-------+\n",
      "|             name|rating|    genre|year|            released|score|    votes|           director|             writer|           star|      country|     budget|      gross|             company|runtime|\n",
      "+-----------------+------+---------+----+--------------------+-----+---------+-------------------+-------------------+---------------+-------------+-----------+-----------+--------------------+-------+\n",
      "|    Almost Famous|     R|Adventure|2000|September 22, 200...|  7.9| 260000.0|      Cameron Crowe|      Cameron Crowe|   Billy Crudup|United States| 60000000.0| 47386287.0|   Columbia Pictures|  122.0|\n",
      "|        Gladiator|     R|   Action|2000|May 5, 2000 (Unit...|  8.5|1400000.0|       Ridley Scott|     David Franzoni|  Russell Crowe|United States|103000000.0|465380802.0| Dreamworks Pictures|  155.0|\n",
      "|        Cast Away| PG-13|Adventure|2000|December 22, 2000...|  7.8| 542000.0|    Robert Zemeckis|William Broyles Jr.|      Tom Hanks|United States| 90000000.0|429632142.0|Twentieth Century...|  143.0|\n",
      "|      Scary Movie|     R|   Comedy|2000|July 7, 2000 (Uni...|  6.2| 238000.0|Keenen Ivory Wayans|       Shawn Wayans|     Anna Faris|United States| 19000000.0|278019771.0|     Dimension Films|   88.0|\n",
      "|The Perfect Storm| PG-13|   Action|2000|June 30, 2000 (Un...|  6.4| 160000.0|  Wolfgang Petersen|   Sebastian Junger| George Clooney|United States|140000000.0|328718434.0|        Warner Bros.|  130.0|\n",
      "|      Coyote Ugly| PG-13|   Comedy|2000|August 4, 2000 (U...|  5.7| 108000.0|      David McNally|       Gina Wendkos|   Piper Perabo|United States| 45000000.0|113916474.0| Touchstone Pictures|  100.0|\n",
      "|            X-Men| PG-13|   Action|2000|July 14, 2000 (Un...|  7.4| 582000.0|       Bryan Singer|        Tom DeSanto|Patrick Stewart|United States| 75000000.0|296339528.0|Twentieth Century...|  104.0|\n",
      "|    Space Cowboys| PG-13|   Action|2000|August 4, 2000 (U...|  6.4|  75000.0|     Clint Eastwood|        Ken Kaufman| Clint Eastwood|United States| 65000000.0|128884132.0|       Clipsal Films|  130.0|\n",
      "|      The Patriot|     R|   Action|2000|June 28, 2000 (Un...|  7.2| 260000.0|    Roland Emmerich|       Robert Rodat|     Mel Gibson|United States|110000000.0|215294342.0|   Columbia Pictures|  165.0|\n",
      "|  Erin Brockovich|     R|Biography|2000|March 17, 2000 (U...|  7.4| 182000.0|  Steven Soderbergh|     Susannah Grant|  Julia Roberts|United States| 52000000.0|256271286.0|  Universal Pictures|  131.0|\n",
      "+-----------------+------+---------+----+--------------------+-----+---------+-------------------+-------------------+---------------+-------------+-----------+-----------+--------------------+-------+\n",
      "only showing top 10 rows\n",
      "\n"
     ]
    }
   ],
   "source": [
    "# 2. Replace null or \"Unrated\" ratings with \"Not Rated\"\n",
    "filtered_data = filtered_data.withColumn(\n",
    "    \"rating\", when((col(\"rating\").isNull()) | (col(\"rating\") == \"Unrated\"), \"Not Rated\").otherwise(col(\"rating\"))\n",
    ")\n",
    "\n",
    "# Show the cleaned dataset\n",
    "filtered_data.show(10)"
   ]
  },
  {
   "cell_type": "code",
   "execution_count": 35,
   "metadata": {},
   "outputs": [
    {
     "name": "stdout",
     "output_type": "stream",
     "text": [
      "+-----------------+------+---------+----+--------------------+-----+---------+-------------------+-------------------+---------------+-------------+-----------+-----------+--------------------+-------+\n",
      "|             name|rating|    genre|year|            released|score|    votes|           director|             writer|           star|      country|     budget|      gross|             company|runtime|\n",
      "+-----------------+------+---------+----+--------------------+-----+---------+-------------------+-------------------+---------------+-------------+-----------+-----------+--------------------+-------+\n",
      "|    Almost Famous|     R|Adventure|2000|September 22, 200...|  7.9| 260000.0|      Cameron Crowe|      Cameron Crowe|   Billy Crudup|United States| 60000000.0| 47386287.0|   Columbia Pictures|  122.0|\n",
      "|        Gladiator|     R|   Action|2000|May 5, 2000 (Unit...|  8.5|1400000.0|       Ridley Scott|     David Franzoni|  Russell Crowe|United States|103000000.0|465380802.0| Dreamworks Pictures|  155.0|\n",
      "|        Cast Away| PG-13|Adventure|2000|December 22, 2000...|  7.8| 542000.0|    Robert Zemeckis|William Broyles Jr.|      Tom Hanks|United States| 90000000.0|429632142.0|Twentieth Century...|  143.0|\n",
      "|      Scary Movie|     R|   Comedy|2000|July 7, 2000 (Uni...|  6.2| 238000.0|Keenen Ivory Wayans|       Shawn Wayans|     Anna Faris|United States| 19000000.0|278019771.0|     Dimension Films|   88.0|\n",
      "|The Perfect Storm| PG-13|   Action|2000|June 30, 2000 (Un...|  6.4| 160000.0|  Wolfgang Petersen|   Sebastian Junger| George Clooney|United States|140000000.0|328718434.0|        Warner Bros.|  130.0|\n",
      "|      Coyote Ugly| PG-13|   Comedy|2000|August 4, 2000 (U...|  5.7| 108000.0|      David McNally|       Gina Wendkos|   Piper Perabo|United States| 45000000.0|113916474.0| Touchstone Pictures|  100.0|\n",
      "|            X-Men| PG-13|   Action|2000|July 14, 2000 (Un...|  7.4| 582000.0|       Bryan Singer|        Tom DeSanto|Patrick Stewart|United States| 75000000.0|296339528.0|Twentieth Century...|  104.0|\n",
      "|    Space Cowboys| PG-13|   Action|2000|August 4, 2000 (U...|  6.4|  75000.0|     Clint Eastwood|        Ken Kaufman| Clint Eastwood|United States| 65000000.0|128884132.0|       Clipsal Films|  130.0|\n",
      "|      The Patriot|     R|   Action|2000|June 28, 2000 (Un...|  7.2| 260000.0|    Roland Emmerich|       Robert Rodat|     Mel Gibson|United States|110000000.0|215294342.0|   Columbia Pictures|  165.0|\n",
      "|  Erin Brockovich|     R|Biography|2000|March 17, 2000 (U...|  7.4| 182000.0|  Steven Soderbergh|     Susannah Grant|  Julia Roberts|United States| 52000000.0|256271286.0|  Universal Pictures|  131.0|\n",
      "+-----------------+------+---------+----+--------------------+-----+---------+-------------------+-------------------+---------------+-------------+-----------+-----------+--------------------+-------+\n",
      "only showing top 10 rows\n",
      "\n"
     ]
    }
   ],
   "source": [
    "# 3. Remove rows where company is null\n",
    "filtered_data = filtered_data.dropna(subset=[\"company\"])\n",
    "\n",
    "# Show the cleaned dataset\n",
    "filtered_data.show(10)"
   ]
  },
  {
   "cell_type": "code",
   "execution_count": 36,
   "metadata": {},
   "outputs": [
    {
     "name": "stdout",
     "output_type": "stream",
     "text": [
      "File saved successfully as clean_movies.csv\n"
     ]
    }
   ],
   "source": [
    "# Convert PySpark DataFrame to Pandas\n",
    "cleaned_df = filtered_data.toPandas()\n",
    "\n",
    "# Save as a csv file\n",
    "cleaned_df.to_csv(\"clean_movies.csv\", index=False)\n",
    "\n",
    "print(\"File saved successfully as clean_movies.csv\")\n"
   ]
  }
 ],
 "metadata": {
  "kernelspec": {
   "display_name": "Python 3",
   "language": "python",
   "name": "python3"
  },
  "language_info": {
   "codemirror_mode": {
    "name": "ipython",
    "version": 3
   },
   "file_extension": ".py",
   "mimetype": "text/x-python",
   "name": "python",
   "nbconvert_exporter": "python",
   "pygments_lexer": "ipython3",
   "version": "3.10.0"
  }
 },
 "nbformat": 4,
 "nbformat_minor": 2
}
